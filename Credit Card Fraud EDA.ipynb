{
 "cells": [
  {
   "attachments": {
    "1.jpg": {
     "image/jpeg": "[encoded data removed]"
    }
   },
   "cell_type": "markdown",
   "id": "c0609d36",
   "metadata": {},
   "source": [
    "# Credit Card Fraud - EDA\n",
    "![1.jpg](attachment:1.jpg)"
   ]
  },
  {
   "cell_type": "code",
   "execution_count": 33,
   "id": "90563513",
   "metadata": {},
   "outputs": [],
   "source": [
    "import pandas as pd\n",
    "import numpy as np\n",
    "from datetime import datetime\n",
    "import matplotlib.pyplot as plt\n",
    "import seaborn as sns\n",
    "%matplotlib inline \n",
    "import warnings\n",
    "warnings.filterwarnings('ignore')"
   ]
  },
  {
   "cell_type": "code",
   "execution_count": 34,
   "id": "2cd104c9",
   "metadata": {},
   "outputs": [],
   "source": [
    "# read in data\n",
    "df=pd.read_csv('CreditCardFraud.csv')"
   ]
  },
  {
   "cell_type": "markdown",
   "id": "597a546d",
   "metadata": {},
   "source": [
    "## Investigating data"
   ]
  },
  {
   "cell_type": "code",
   "execution_count": 35,
   "id": "75f0b02b",
   "metadata": {},
   "outputs": [
    {
     "data": {
      "text/html": [
       "<div>\n",
       "<style scoped>\n",
       "    .dataframe tbody tr th:only-of-type {\n",
       "        vertical-align: middle;\n",
       "    }\n",
       "\n",
       "    .dataframe tbody tr th {\n",
       "        vertical-align: top;\n",
       "    }\n",
       "\n",
       "    .dataframe thead th {\n",
       "        text-align: right;\n",
       "    }\n",
       "</style>\n",
       "<table border=\"1\" class=\"dataframe\">\n",
       "  <thead>\n",
       "    <tr style=\"text-align: right;\">\n",
       "      <th></th>\n",
       "      <th>Unnamed: 0</th>\n",
       "      <th>trans_date_trans_time</th>\n",
       "      <th>cc_num</th>\n",
       "      <th>merchant</th>\n",
       "      <th>category</th>\n",
       "      <th>amt</th>\n",
       "      <th>first</th>\n",
       "      <th>last</th>\n",
       "      <th>gender</th>\n",
       "      <th>street</th>\n",
       "      <th>...</th>\n",
       "      <th>lat</th>\n",
       "      <th>long</th>\n",
       "      <th>city_pop</th>\n",
       "      <th>job</th>\n",
       "      <th>dob</th>\n",
       "      <th>trans_num</th>\n",
       "      <th>unix_time</th>\n",
       "      <th>merch_lat</th>\n",
       "      <th>merch_long</th>\n",
       "      <th>is_fraud</th>\n",
       "    </tr>\n",
       "  </thead>\n",
       "  <tbody>\n",
       "    <tr>\n",
       "      <th>0</th>\n",
       "      <td>0</td>\n",
       "      <td>1/1/2019 0:00</td>\n",
       "      <td>2.700000e+15</td>\n",
       "      <td>fraud_Rippin, Kub and Mann</td>\n",
       "      <td>misc_net</td>\n",
       "      <td>4.97</td>\n",
       "      <td>Jennifer</td>\n",
       "      <td>Banks</td>\n",
       "      <td>F</td>\n",
       "      <td>561 Perry Cove</td>\n",
       "      <td>...</td>\n",
       "      <td>36.0788</td>\n",
       "      <td>-81.1781</td>\n",
       "      <td>3495</td>\n",
       "      <td>Psychologist, counselling</td>\n",
       "      <td>3/9/1988</td>\n",
       "      <td>0b242abb623afc578575680df30655b9</td>\n",
       "      <td>1325376018</td>\n",
       "      <td>36.011293</td>\n",
       "      <td>-82.048315</td>\n",
       "      <td>0</td>\n",
       "    </tr>\n",
       "    <tr>\n",
       "      <th>1</th>\n",
       "      <td>1</td>\n",
       "      <td>1/1/2019 0:00</td>\n",
       "      <td>6.300000e+11</td>\n",
       "      <td>fraud_Heller, Gutmann and Zieme</td>\n",
       "      <td>grocery_pos</td>\n",
       "      <td>107.23</td>\n",
       "      <td>Stephanie</td>\n",
       "      <td>Gill</td>\n",
       "      <td>F</td>\n",
       "      <td>43039 Riley Greens Suite 393</td>\n",
       "      <td>...</td>\n",
       "      <td>48.8878</td>\n",
       "      <td>-118.2105</td>\n",
       "      <td>149</td>\n",
       "      <td>Special educational needs teacher</td>\n",
       "      <td>6/21/1978</td>\n",
       "      <td>1f76529f8574734946361c461b024d99</td>\n",
       "      <td>1325376044</td>\n",
       "      <td>49.159047</td>\n",
       "      <td>-118.186462</td>\n",
       "      <td>0</td>\n",
       "    </tr>\n",
       "    <tr>\n",
       "      <th>2</th>\n",
       "      <td>2</td>\n",
       "      <td>1/1/2019 0:00</td>\n",
       "      <td>3.890000e+13</td>\n",
       "      <td>fraud_Lind-Buckridge</td>\n",
       "      <td>entertainment</td>\n",
       "      <td>220.11</td>\n",
       "      <td>Edward</td>\n",
       "      <td>Sanchez</td>\n",
       "      <td>M</td>\n",
       "      <td>594 White Dale Suite 530</td>\n",
       "      <td>...</td>\n",
       "      <td>42.1808</td>\n",
       "      <td>-112.2620</td>\n",
       "      <td>4154</td>\n",
       "      <td>Nature conservation officer</td>\n",
       "      <td>1/19/1962</td>\n",
       "      <td>a1a22d70485983eac12b5b88dad1cf95</td>\n",
       "      <td>1325376051</td>\n",
       "      <td>43.150704</td>\n",
       "      <td>-112.154481</td>\n",
       "      <td>0</td>\n",
       "    </tr>\n",
       "  </tbody>\n",
       "</table>\n",
       "<p>3 rows × 23 columns</p>\n",
       "</div>"
      ],
      "text/plain": [
       "   Unnamed: 0 trans_date_trans_time        cc_num  \\\n",
       "0           0         1/1/2019 0:00  2.700000e+15   \n",
       "1           1         1/1/2019 0:00  6.300000e+11   \n",
       "2           2         1/1/2019 0:00  3.890000e+13   \n",
       "\n",
       "                          merchant       category     amt      first     last  \\\n",
       "0       fraud_Rippin, Kub and Mann       misc_net    4.97   Jennifer    Banks   \n",
       "1  fraud_Heller, Gutmann and Zieme    grocery_pos  107.23  Stephanie     Gill   \n",
       "2             fraud_Lind-Buckridge  entertainment  220.11     Edward  Sanchez   \n",
       "\n",
       "  gender                        street  ...      lat      long  city_pop  \\\n",
       "0      F                561 Perry Cove  ...  36.0788  -81.1781      3495   \n",
       "1      F  43039 Riley Greens Suite 393  ...  48.8878 -118.2105       149   \n",
       "2      M      594 White Dale Suite 530  ...  42.1808 -112.2620      4154   \n",
       "\n",
       "                                 job        dob  \\\n",
       "0          Psychologist, counselling   3/9/1988   \n",
       "1  Special educational needs teacher  6/21/1978   \n",
       "2        Nature conservation officer  1/19/1962   \n",
       "\n",
       "                          trans_num   unix_time  merch_lat  merch_long  \\\n",
       "0  0b242abb623afc578575680df30655b9  1325376018  36.011293  -82.048315   \n",
       "1  1f76529f8574734946361c461b024d99  1325376044  49.159047 -118.186462   \n",
       "2  a1a22d70485983eac12b5b88dad1cf95  1325376051  43.150704 -112.154481   \n",
       "\n",
       "   is_fraud  \n",
       "0         0  \n",
       "1         0  \n",
       "2         0  \n",
       "\n",
       "[3 rows x 23 columns]"
      ]
     },
     "execution_count": 35,
     "metadata": {},
     "output_type": "execute_result"
    }
   ],
   "source": [
    "df.head(3)"
   ]
  },
  {
   "cell_type": "code",
   "execution_count": 36,
   "id": "6c5169b6",
   "metadata": {},
   "outputs": [
    {
     "data": {
      "text/plain": [
       "(1048575, 23)"
      ]
     },
     "execution_count": 36,
     "metadata": {},
     "output_type": "execute_result"
    }
   ],
   "source": [
    "df.shape"
   ]
  },
  {
   "cell_type": "code",
   "execution_count": 37,
   "id": "3c4d494e",
   "metadata": {},
   "outputs": [
    {
     "name": "stdout",
     "output_type": "stream",
     "text": [
      "1/1/2019 0:00\n",
      "9/9/2019 9:59\n"
     ]
    }
   ],
   "source": [
    "print(min(df['trans_date_trans_time'])); print(max(df['trans_date_trans_time']));"
   ]
  },
  {
   "cell_type": "code",
   "execution_count": 38,
   "id": "0ab38216",
   "metadata": {},
   "outputs": [],
   "source": [
    "df.drop(\"Unnamed: 0\",axis=1,inplace=True)"
   ]
  },
  {
   "cell_type": "code",
   "execution_count": 39,
   "id": "348329d5",
   "metadata": {},
   "outputs": [
    {
     "data": {
      "text/html": [
       "<div>\n",
       "<style scoped>\n",
       "    .dataframe tbody tr th:only-of-type {\n",
       "        vertical-align: middle;\n",
       "    }\n",
       "\n",
       "    .dataframe tbody tr th {\n",
       "        vertical-align: top;\n",
       "    }\n",
       "\n",
       "    .dataframe thead th {\n",
       "        text-align: right;\n",
       "    }\n",
       "</style>\n",
       "<table border=\"1\" class=\"dataframe\">\n",
       "  <thead>\n",
       "    <tr style=\"text-align: right;\">\n",
       "      <th></th>\n",
       "      <th>count</th>\n",
       "      <th>mean</th>\n",
       "      <th>std</th>\n",
       "      <th>min</th>\n",
       "      <th>25%</th>\n",
       "      <th>50%</th>\n",
       "      <th>75%</th>\n",
       "      <th>max</th>\n",
       "    </tr>\n",
       "  </thead>\n",
       "  <tbody>\n",
       "    <tr>\n",
       "      <th>cc_num</th>\n",
       "      <td>1048575.0</td>\n",
       "      <td>4.171800e+17</td>\n",
       "      <td>1.308893e+18</td>\n",
       "      <td>6.041621e+10</td>\n",
       "      <td>1.800000e+14</td>\n",
       "      <td>3.520000e+15</td>\n",
       "      <td>4.640000e+15</td>\n",
       "      <td>4.990000e+18</td>\n",
       "    </tr>\n",
       "    <tr>\n",
       "      <th>amt</th>\n",
       "      <td>1048378.0</td>\n",
       "      <td>7.028055e+01</td>\n",
       "      <td>1.599551e+02</td>\n",
       "      <td>1.000000e+00</td>\n",
       "      <td>9.650000e+00</td>\n",
       "      <td>4.745000e+01</td>\n",
       "      <td>8.306000e+01</td>\n",
       "      <td>2.894890e+04</td>\n",
       "    </tr>\n",
       "    <tr>\n",
       "      <th>zip</th>\n",
       "      <td>1048575.0</td>\n",
       "      <td>4.880159e+04</td>\n",
       "      <td>2.689804e+04</td>\n",
       "      <td>1.257000e+03</td>\n",
       "      <td>2.623700e+04</td>\n",
       "      <td>4.817400e+04</td>\n",
       "      <td>7.204200e+04</td>\n",
       "      <td>9.978300e+04</td>\n",
       "    </tr>\n",
       "    <tr>\n",
       "      <th>lat</th>\n",
       "      <td>1048575.0</td>\n",
       "      <td>3.853336e+01</td>\n",
       "      <td>5.076852e+00</td>\n",
       "      <td>2.002710e+01</td>\n",
       "      <td>3.462050e+01</td>\n",
       "      <td>3.935430e+01</td>\n",
       "      <td>4.194040e+01</td>\n",
       "      <td>6.669330e+01</td>\n",
       "    </tr>\n",
       "    <tr>\n",
       "      <th>long</th>\n",
       "      <td>1048575.0</td>\n",
       "      <td>-9.022626e+01</td>\n",
       "      <td>1.375858e+01</td>\n",
       "      <td>-1.656723e+02</td>\n",
       "      <td>-9.679800e+01</td>\n",
       "      <td>-8.747690e+01</td>\n",
       "      <td>-8.015800e+01</td>\n",
       "      <td>-6.795030e+01</td>\n",
       "    </tr>\n",
       "    <tr>\n",
       "      <th>city_pop</th>\n",
       "      <td>1048575.0</td>\n",
       "      <td>8.905776e+04</td>\n",
       "      <td>3.024351e+05</td>\n",
       "      <td>2.300000e+01</td>\n",
       "      <td>7.430000e+02</td>\n",
       "      <td>2.456000e+03</td>\n",
       "      <td>2.032800e+04</td>\n",
       "      <td>2.906700e+06</td>\n",
       "    </tr>\n",
       "    <tr>\n",
       "      <th>unix_time</th>\n",
       "      <td>1048575.0</td>\n",
       "      <td>1.344906e+09</td>\n",
       "      <td>1.019700e+07</td>\n",
       "      <td>1.325376e+09</td>\n",
       "      <td>1.336682e+09</td>\n",
       "      <td>1.344902e+09</td>\n",
       "      <td>1.354366e+09</td>\n",
       "      <td>1.362932e+09</td>\n",
       "    </tr>\n",
       "    <tr>\n",
       "      <th>merch_lat</th>\n",
       "      <td>1048575.0</td>\n",
       "      <td>3.853346e+01</td>\n",
       "      <td>5.111233e+00</td>\n",
       "      <td>1.902779e+01</td>\n",
       "      <td>3.472954e+01</td>\n",
       "      <td>3.936295e+01</td>\n",
       "      <td>4.195602e+01</td>\n",
       "      <td>6.751027e+01</td>\n",
       "    </tr>\n",
       "    <tr>\n",
       "      <th>merch_long</th>\n",
       "      <td>1048575.0</td>\n",
       "      <td>-9.022648e+01</td>\n",
       "      <td>1.377093e+01</td>\n",
       "      <td>-1.666712e+02</td>\n",
       "      <td>-9.689864e+01</td>\n",
       "      <td>-8.743923e+01</td>\n",
       "      <td>-8.023228e+01</td>\n",
       "      <td>-6.695090e+01</td>\n",
       "    </tr>\n",
       "    <tr>\n",
       "      <th>is_fraud</th>\n",
       "      <td>1048575.0</td>\n",
       "      <td>5.727773e-03</td>\n",
       "      <td>7.546503e-02</td>\n",
       "      <td>0.000000e+00</td>\n",
       "      <td>0.000000e+00</td>\n",
       "      <td>0.000000e+00</td>\n",
       "      <td>0.000000e+00</td>\n",
       "      <td>1.000000e+00</td>\n",
       "    </tr>\n",
       "  </tbody>\n",
       "</table>\n",
       "</div>"
      ],
      "text/plain": [
       "                count          mean           std           min           25%  \\\n",
       "cc_num      1048575.0  4.171800e+17  1.308893e+18  6.041621e+10  1.800000e+14   \n",
       "amt         1048378.0  7.028055e+01  1.599551e+02  1.000000e+00  9.650000e+00   \n",
       "zip         1048575.0  4.880159e+04  2.689804e+04  1.257000e+03  2.623700e+04   \n",
       "lat         1048575.0  3.853336e+01  5.076852e+00  2.002710e+01  3.462050e+01   \n",
       "long        1048575.0 -9.022626e+01  1.375858e+01 -1.656723e+02 -9.679800e+01   \n",
       "city_pop    1048575.0  8.905776e+04  3.024351e+05  2.300000e+01  7.430000e+02   \n",
       "unix_time   1048575.0  1.344906e+09  1.019700e+07  1.325376e+09  1.336682e+09   \n",
       "merch_lat   1048575.0  3.853346e+01  5.111233e+00  1.902779e+01  3.472954e+01   \n",
       "merch_long  1048575.0 -9.022648e+01  1.377093e+01 -1.666712e+02 -9.689864e+01   \n",
       "is_fraud    1048575.0  5.727773e-03  7.546503e-02  0.000000e+00  0.000000e+00   \n",
       "\n",
       "                     50%           75%           max  \n",
       "cc_num      3.520000e+15  4.640000e+15  4.990000e+18  \n",
       "amt         4.745000e+01  8.306000e+01  2.894890e+04  \n",
       "zip         4.817400e+04  7.204200e+04  9.978300e+04  \n",
       "lat         3.935430e+01  4.194040e+01  6.669330e+01  \n",
       "long       -8.747690e+01 -8.015800e+01 -6.795030e+01  \n",
       "city_pop    2.456000e+03  2.032800e+04  2.906700e+06  \n",
       "unix_time   1.344902e+09  1.354366e+09  1.362932e+09  \n",
       "merch_lat   3.936295e+01  4.195602e+01  6.751027e+01  \n",
       "merch_long -8.743923e+01 -8.023228e+01 -6.695090e+01  \n",
       "is_fraud    0.000000e+00  0.000000e+00  1.000000e+00  "
      ]
     },
     "execution_count": 39,
     "metadata": {},
     "output_type": "execute_result"
    }
   ],
   "source": [
    "df.describe().T"
   ]
  },
  {
   "cell_type": "code",
   "execution_count": 40,
   "id": "c261f457",
   "metadata": {},
   "outputs": [
    {
     "name": "stdout",
     "output_type": "stream",
     "text": [
      "<class 'pandas.core.frame.DataFrame'>\n",
      "RangeIndex: 1048575 entries, 0 to 1048574\n",
      "Data columns (total 22 columns):\n",
      " #   Column                 Non-Null Count    Dtype  \n",
      "---  ------                 --------------    -----  \n",
      " 0   trans_date_trans_time  1048575 non-null  object \n",
      " 1   cc_num                 1048575 non-null  float64\n",
      " 2   merchant               1048575 non-null  object \n",
      " 3   category               1048575 non-null  object \n",
      " 4   amt                    1048378 non-null  float64\n",
      " 5   first                  1048575 non-null  object \n",
      " 6   last                   1048575 non-null  object \n",
      " 7   gender                 1048575 non-null  object \n",
      " 8   street                 1048575 non-null  object \n",
      " 9   city                   1048575 non-null  object \n",
      " 10  state                  1048575 non-null  object \n",
      " 11  zip                    1048575 non-null  int64  \n",
      " 12  lat                    1048575 non-null  float64\n",
      " 13  long                   1048575 non-null  float64\n",
      " 14  city_pop               1048575 non-null  int64  \n",
      " 15  job                    1048575 non-null  object \n",
      " 16  dob                    1048575 non-null  object \n",
      " 17  trans_num              1048575 non-null  object \n",
      " 18  unix_time              1048575 non-null  int64  \n",
      " 19  merch_lat              1048575 non-null  float64\n",
      " 20  merch_long             1048575 non-null  float64\n",
      " 21  is_fraud               1048575 non-null  int64  \n",
      "dtypes: float64(6), int64(4), object(12)\n",
      "memory usage: 176.0+ MB\n"
     ]
    }
   ],
   "source": [
    "df.info()"
   ]
  },
  {
   "cell_type": "code",
   "execution_count": 41,
   "id": "f9759eae",
   "metadata": {},
   "outputs": [
    {
     "name": "stdout",
     "output_type": "stream",
     "text": [
      "0\n"
     ]
    }
   ],
   "source": [
    "# Check if there are duplicated rows\n",
    "print(df.duplicated().sum())"
   ]
  },
  {
   "cell_type": "code",
   "execution_count": 42,
   "id": "f853c4af",
   "metadata": {},
   "outputs": [
    {
     "name": "stdout",
     "output_type": "stream",
     "text": [
      "trans_date_trans_time      0\n",
      "cc_num                     0\n",
      "merchant                   0\n",
      "category                   0\n",
      "amt                      197\n",
      "first                      0\n",
      "last                       0\n",
      "gender                     0\n",
      "street                     0\n",
      "city                       0\n",
      "state                      0\n",
      "zip                        0\n",
      "lat                        0\n",
      "long                       0\n",
      "city_pop                   0\n",
      "job                        0\n",
      "dob                        0\n",
      "trans_num                  0\n",
      "unix_time                  0\n",
      "merch_lat                  0\n",
      "merch_long                 0\n",
      "is_fraud                   0\n",
      "dtype: int64\n"
     ]
    }
   ],
   "source": [
    "# Check if there are missing values\n",
    "print(df.isnull().sum())"
   ]
  },
  {
   "cell_type": "code",
   "execution_count": 43,
   "id": "fef4750e",
   "metadata": {},
   "outputs": [
    {
     "data": {
      "text/plain": [
       "0.018787401950265837"
      ]
     },
     "execution_count": 43,
     "metadata": {},
     "output_type": "execute_result"
    }
   ],
   "source": [
    "# Percentagae amt column missing value\n",
    "(df['amt'].isnull().sum() / df.shape[0]) * 100"
   ]
  },
  {
   "cell_type": "code",
   "execution_count": 44,
   "id": "cf40d06b",
   "metadata": {},
   "outputs": [],
   "source": [
    "# Replace mssing values of amt using mean of amt\n",
    "#df ['amt'] = df ['amt'].fillna(df ['amt'].mean()) \n",
    "#df['amt'].isnull().sum()"
   ]
  },
  {
   "cell_type": "code",
   "execution_count": 45,
   "id": "a83bafde",
   "metadata": {},
   "outputs": [
    {
     "data": {
      "text/plain": [
       "Text(0.5, 1.0, 'BoxPlot of Fraudulent Transaction Amout')"
      ]
     },
     "execution_count": 45,
     "metadata": {},
     "output_type": "execute_result"
    },
    {
     "data": {
      "image/png": "[encoded data removed]",
      "text/plain": [
       "<Figure size 432x288 with 1 Axes>"
      ]
     },
     "metadata": {
      "needs_background": "light"
     },
     "output_type": "display_data"
    }
   ],
   "source": [
    "# Transaction amount when transaction is fraud\n",
    "sns.boxplot(data=df.loc[df['is_fraud']==1], x='amt') \n",
    "plt.title ('BoxPlot of Fraudulent Transaction Amout')"
   ]
  },
  {
   "cell_type": "code",
   "execution_count": 46,
   "id": "a32546f0",
   "metadata": {},
   "outputs": [
    {
     "data": {
      "text/plain": [
       "21768    1.0\n",
       "22762    1.0\n",
       "23685    1.0\n",
       "25146    1.0\n",
       "34740    1.0\n",
       "41725    1.0\n",
       "49569    1.0\n",
       "52655    1.0\n",
       "53832    1.0\n",
       "54942    1.0\n",
       "Name: amt, dtype: float64"
      ]
     },
     "execution_count": 46,
     "metadata": {},
     "output_type": "execute_result"
    }
   ],
   "source": [
    "# Inversitgae the bottom 10 value of amt in boxplot\n",
    "df['amt'].nsmallest(n=10)"
   ]
  },
  {
   "cell_type": "markdown",
   "id": "39518cc7",
   "metadata": {},
   "source": [
    "Fraudulent transactions: Q1 is over $200. Q3 is close to $900. The median of the amt is $400. \n",
    "It is right skewed,which means that most of data is on the small value side. There is no outlier."
   ]
  },
  {
   "cell_type": "code",
   "execution_count": 47,
   "id": "f8fcc3bd",
   "metadata": {},
   "outputs": [
    {
     "name": "stdout",
     "output_type": "stream",
     "text": [
      "Counts: Fraud vs. Non-Fraud\n",
      "0    1042569\n",
      "1       6006\n",
      "Name: is_fraud, dtype: int64\n",
      "Percentages:Fraud vs. Non-Fraud\n",
      "0    99.43\n",
      "1     0.57\n",
      "Name: is_fraud, dtype: float64\n"
     ]
    }
   ],
   "source": [
    "print('Counts: Fraud vs. Non-Fraud')\n",
    "print(df['is_fraud'].value_counts())\n",
    "print('Percentages:Fraud vs. Non-Fraud')\n",
    "print(round(df['is_fraud'].value_counts(normalize=True)*100, 2))"
   ]
  },
  {
   "cell_type": "code",
   "execution_count": 48,
   "id": "170ab85a",
   "metadata": {
    "scrolled": false
   },
   "outputs": [
    {
     "data": {
      "text/plain": [
       "Text(0.5, 1.0, 'Fraud Percentage')"
      ]
     },
     "execution_count": 48,
     "metadata": {},
     "output_type": "execute_result"
    },
    {
     "data": {
      "image/png": "[encoded data removed]",
      "text/plain": [
       "<Figure size 360x360 with 1 Axes>"
      ]
     },
     "metadata": {},
     "output_type": "display_data"
    }
   ],
   "source": [
    "# Percentage of fraud -- pie chart\n",
    "y=df['is_fraud'].value_counts(normalize=True)\n",
    "x=np.array(y)\n",
    "mylabels=[\"Not Fraud\",\"Fraud\"]\n",
    "myexplode=[0.1,0]\n",
    "\n",
    "fig=plt.figure(figsize=(5,5))\n",
    "plt.pie(x,explode=myexplode,labels=mylabels,autopct='%.2f%%', textprops={'fontsize': 14})\n",
    "plt.title(\"Fraud Percentage\")"
   ]
  },
  {
   "cell_type": "code",
   "execution_count": 49,
   "id": "d5cf9dc9",
   "metadata": {},
   "outputs": [
    {
     "data": {
      "text/plain": [
       "count    1.048575e+06\n",
       "mean     5.727773e-03\n",
       "std      7.546503e-02\n",
       "min      0.000000e+00\n",
       "25%      0.000000e+00\n",
       "50%      0.000000e+00\n",
       "75%      0.000000e+00\n",
       "max      1.000000e+00\n",
       "Name: is_fraud, dtype: float64"
      ]
     },
     "execution_count": 49,
     "metadata": {},
     "output_type": "execute_result"
    }
   ],
   "source": [
    "df['is_fraud'].describe()"
   ]
  },
  {
   "cell_type": "code",
   "execution_count": 50,
   "id": "359fed90",
   "metadata": {},
   "outputs": [],
   "source": [
    "# Convert dob and trans_date_trans_time to datetime type\n",
    "df['trans_date_trans_time']=pd.to_datetime(df['trans_date_trans_time'])\n",
    "df['trans_date']=df['trans_date_trans_time'].dt.strftime('%Y-%m-%d')\n",
    "df['trans_date']=pd.to_datetime(df['trans_date'])\n",
    "df['dob']=pd.to_datetime(df['dob'])"
   ]
  },
  {
   "cell_type": "code",
   "execution_count": 51,
   "id": "c847d412",
   "metadata": {},
   "outputs": [],
   "source": [
    "# Cacluate age on the transaction date\n",
    "df[\"age\"] = df[\"trans_date\"]-df[\"dob\"]\n",
    "df[\"age\"] = df[\"age\"].astype('timedelta64[Y]') #unit: year"
   ]
  },
  {
   "cell_type": "code",
   "execution_count": 52,
   "id": "8d33e0bd",
   "metadata": {},
   "outputs": [
    {
     "data": {
      "text/plain": [
       "count    1048575.00\n",
       "mean          45.39\n",
       "std           17.38\n",
       "min           13.00\n",
       "25%           32.00\n",
       "50%           43.00\n",
       "75%           56.00\n",
       "max           95.00\n",
       "Name: age, dtype: float64"
      ]
     },
     "execution_count": 52,
     "metadata": {},
     "output_type": "execute_result"
    }
   ],
   "source": [
    "df.age.describe().round(2)"
   ]
  },
  {
   "cell_type": "code",
   "execution_count": 53,
   "id": "c9211ec5",
   "metadata": {},
   "outputs": [],
   "source": [
    "# Calculate distance from customer location to merchant location \n",
    "df['distance'] = np.sqrt((df['merch_lat']-df['lat'])**2 +(df['merch_long']-df['long'])**2)*69.17  #unit: mile"
   ]
  },
  {
   "cell_type": "code",
   "execution_count": 54,
   "id": "221432ac",
   "metadata": {},
   "outputs": [
    {
     "name": "stdout",
     "output_type": "stream",
     "text": [
      "Index(['trans_date_trans_time', 'cc_num', 'merchant', 'category', 'amt',\n",
      "       'first', 'last', 'gender', 'street', 'city', 'state', 'zip', 'city_pop',\n",
      "       'job', 'trans_num', 'is_fraud', 'trans_date', 'age', 'distance'],\n",
      "      dtype='object')\n",
      "(1048575, 19)\n"
     ]
    }
   ],
   "source": [
    "# Drop unnecessary columns\n",
    "df = df.drop(['unix_time', 'dob', 'merch_lat', 'merch_long', 'lat', 'long'], axis=1)\n",
    "print(df.columns); print(df.shape)"
   ]
  },
  {
   "cell_type": "markdown",
   "id": "70427276",
   "metadata": {},
   "source": [
    "### EDA"
   ]
  },
  {
   "cell_type": "code",
   "execution_count": 55,
   "id": "ef5f63b0",
   "metadata": {},
   "outputs": [
    {
     "data": {
      "text/plain": [
       "Text(0.5, 1.0, 'Hour per Day: Fraud vs. Normal')"
      ]
     },
     "execution_count": 55,
     "metadata": {},
     "output_type": "execute_result"
    },
    {
     "data": {
      "image/png": "[encoded data removed]",
      "text/plain": [
       "<Figure size 720x360 with 1 Axes>"
      ]
     },
     "metadata": {
      "needs_background": "light"
     },
     "output_type": "display_data"
    }
   ],
   "source": [
    "# Hour per day vs. is_fraud\n",
    "\n",
    "df['hour']=pd.to_datetime(df['trans_date_trans_time']).dt.hour\n",
    "plt.figure(figsize=(10,5))\n",
    "ax=sns.histplot(data=df, x=\"hour\", hue=\"is_fraud\", common_norm=False,stat='percent',multiple='dodge')\n",
    "ax.set_ylabel('Percentage')\n",
    "ax.set_xlabel('Hour/Day')\n",
    "plt.xticks(np.arange(0,24,1))\n",
    "plt.legend(title='Fraud', labels=['Yes', 'No'])\n",
    "plt.title('Hour per Day: Fraud vs. Normal')"
   ]
  },
  {
   "cell_type": "markdown",
   "id": "9c514415",
   "metadata": {},
   "source": [
    "Fraudulent transactions occured the time when people were normally in deep sleep."
   ]
  },
  {
   "cell_type": "code",
   "execution_count": 56,
   "id": "4319bb7c",
   "metadata": {},
   "outputs": [
    {
     "data": {
      "text/plain": [
       "Text(0.5, 1.0, 'Weekday: Fraud vs. Normal')"
      ]
     },
     "execution_count": 56,
     "metadata": {},
     "output_type": "execute_result"
    },
    {
     "data": {
      "image/png": "[encoded data removed]",
      "text/plain": [
       "<Figure size 576x360 with 1 Axes>"
      ]
     },
     "metadata": {
      "needs_background": "light"
     },
     "output_type": "display_data"
    }
   ],
   "source": [
    "# weekday vs is_fraud\n",
    "\n",
    "df['weekday']=pd.to_datetime(df['trans_date_trans_time']).dt.dayofweek\n",
    "plt.figure(figsize=(8,5))\n",
    "ax=sns.histplot(data=df, x=\"weekday\", hue=\"is_fraud\", common_norm=False,stat='percent',multiple='dodge')\n",
    "ax.set_ylabel('Percentage')\n",
    "ax.set_xlabel('Weekday')\n",
    "ax.set_xticklabels([\"\", \"Mon\",\"Tue\",\"Wed\",\"Thu\",\"Fri\",\"Sat\",\"Sun\"])\n",
    "plt.legend(title='Fraud', labels=['Yes', 'No'])\n",
    "plt.title('Weekay vs. Fraud')\n",
    "plt.title('Weekday: Fraud vs. Normal')"
   ]
  },
  {
   "cell_type": "markdown",
   "id": "f9d66e2c",
   "metadata": {},
   "source": [
    "Regardless of being fraud or not, there were more transactions from Saturday to Monday. Need to especially moniotor unusal/suspicious transactions during these weekdays."
   ]
  },
  {
   "cell_type": "code",
   "execution_count": 57,
   "id": "7cf49b06",
   "metadata": {},
   "outputs": [
    {
     "data": {
      "text/plain": [
       "Text(0.5, 1.0, 'Month: Fraud vs. Normal')"
      ]
     },
     "execution_count": 57,
     "metadata": {},
     "output_type": "execute_result"
    },
    {
     "data": {
      "image/png": "[encoded data removed]",
      "text/plain": [
       "<Figure size 576x360 with 1 Axes>"
      ]
     },
     "metadata": {
      "needs_background": "light"
     },
     "output_type": "display_data"
    }
   ],
   "source": [
    "# Month vs is_fraud\n",
    "\n",
    "df['month']=pd.to_datetime(df['trans_date_trans_time']).dt.month\n",
    "plt.figure(figsize=(8,5))\n",
    "ax=sns.histplot(data=df, x=\"month\", hue=\"is_fraud\", common_norm=False,stat='percent',multiple='dodge')\n",
    "ax.set_ylabel('Percentage')\n",
    "ax.set_xlabel('Month')\n",
    "plt.xticks(np.arange(1,13,1))\n",
    "ax.set_xticklabels([\"Jan\",\"Feb\",\"Mar\",\"Apr\",\"May\",\"Jun\",\"Jul\",'Aug','Sep','Oct','Nov','Dec'])\n",
    "plt.legend(title='Fraud', labels=['Yes', 'No'])\n",
    "plt.title('Month: Fraud vs. Normal')"
   ]
  },
  {
   "cell_type": "markdown",
   "id": "ac4fa6fd",
   "metadata": {},
   "source": [
    "Fraudulent transactions occured more in January and February."
   ]
  },
  {
   "cell_type": "code",
   "execution_count": 58,
   "id": "88d5e01a",
   "metadata": {},
   "outputs": [
    {
     "data": {
      "text/plain": [
       "<matplotlib.legend.Legend at 0x1f61d908b80>"
      ]
     },
     "execution_count": 58,
     "metadata": {},
     "output_type": "execute_result"
    },
    {
     "data": {
      "image/png": "[encoded data removed]",
      "text/plain": [
       "<Figure size 576x360 with 1 Axes>"
      ]
     },
     "metadata": {
      "needs_background": "light"
     },
     "output_type": "display_data"
    }
   ],
   "source": [
    "fig=plt.figure(figsize=(8,5))\n",
    "ax=sns.histplot(data=df, x='gender',hue='is_fraud',stat='percent',multiple='dodge',common_norm=False)\n",
    "ax.set_ylabel('Percentage')\n",
    "ax.set_xlabel(' Gender')\n",
    "plt.legend(title='Type',labels=['Fraud','Not Fraud'])"
   ]
  },
  {
   "cell_type": "code",
   "execution_count": 59,
   "id": "98d86daf",
   "metadata": {},
   "outputs": [
    {
     "name": "stdout",
     "output_type": "stream",
     "text": [
      "percentages\n",
      "gas_transport     10.149965\n",
      "grocery_pos        9.527788\n",
      "home               9.496507\n",
      "shopping_pos       8.998212\n",
      "kids_pets          8.716973\n",
      "shopping_net       7.524402\n",
      "entertainment      7.246120\n",
      "food_dining        7.061107\n",
      "personal_care      7.009322\n",
      "health_fitness     6.614882\n",
      "misc_pos           6.150442\n",
      "misc_net           4.871564\n",
      "grocery_net        3.501800\n",
      "travel             3.130916\n",
      "Name: category, dtype: float64\n"
     ]
    },
    {
     "data": {
      "image/png": "[encoded data removed]",
      "text/plain": [
       "<Figure size 576x360 with 1 Axes>"
      ]
     },
     "metadata": {
      "needs_background": "light"
     },
     "output_type": "display_data"
    }
   ],
   "source": [
    "#Sepnding Category vs. is_fraud\n",
    "print('percentages'); print(df['category'].value_counts(normalize=True)*100)\n",
    "\n",
    "fig=plt.figure(figsize=(8,5))\n",
    "ax=sns.histplot(x='category',data=df,hue='is_fraud',stat='percent',multiple='dodge',common_norm=False)\n",
    "ax.set_ylabel('Percentage in Each Type')\n",
    "ax.set_xlabel('Category')\n",
    "for tick in ax.get_xticklabels():\n",
    "    tick.set_rotation(70)\n",
    "plt.legend(title='Type',labels=['Fraud','Not Fraud'])\n",
    "plt.show()"
   ]
  },
  {
   "cell_type": "markdown",
   "id": "de930001",
   "metadata": {},
   "source": [
    "Fraudulent transactions occured more in grocery_pos and shopping_pos.       "
   ]
  },
  {
   "cell_type": "code",
   "execution_count": 60,
   "id": "9e405935",
   "metadata": {},
   "outputs": [
    {
     "data": {
      "text/plain": [
       "<matplotlib.legend.Legend at 0x1f61da4eb80>"
      ]
     },
     "execution_count": 60,
     "metadata": {},
     "output_type": "execute_result"
    },
    {
     "data": {
      "image/png": "[encoded data removed]",
      "text/plain": [
       "<Figure size 1080x360 with 1 Axes>"
      ]
     },
     "metadata": {
      "needs_background": "light"
     },
     "output_type": "display_data"
    }
   ],
   "source": [
    "# State vs. is_fraud\n",
    "#print('percentages'); print(df['state'].value_counts(normalize=True)*100)\n",
    "\n",
    "fig=plt.figure(figsize=(15,5))\n",
    "ax=sns.histplot(x='state',data=df,hue='is_fraud',stat='percent',multiple='dodge',common_norm=False)\n",
    "sns.set(rc={'xtick.labelsize':11})\n",
    "ax.set_ylabel('Percentage in Each State')\n",
    "ax.set_xlabel('State')\n",
    "for tick in ax.get_xticklabels():\n",
    "    tick.set_rotation(75)\n",
    "plt.legend(title='Type',labels=['Fraud','Not Fraud'])"
   ]
  },
  {
   "cell_type": "markdown",
   "id": "36978955",
   "metadata": {},
   "source": [
    "There were more fraudulent transactions in PA, TX, and NY. Meanwhile, the three states have big population.        "
   ]
  },
  {
   "cell_type": "code",
   "execution_count": 61,
   "id": "b64d40a8",
   "metadata": {},
   "outputs": [
    {
     "data": {
      "text/plain": [
       "581"
      ]
     },
     "execution_count": 61,
     "metadata": {},
     "output_type": "execute_result"
    }
   ],
   "source": [
    "# City vs. Fraud\n",
    "\n",
    "df['location']=df['city']+','+df['state']  # some state have the same city name\n",
    "num_cities=df[df[\"is_fraud\"]==1]['location'].nunique()\n",
    "num_cities"
   ]
  },
  {
   "cell_type": "code",
   "execution_count": 62,
   "id": "100e4e3e",
   "metadata": {},
   "outputs": [],
   "source": [
    "# data frame only includes fraudulent transactions\n",
    "df_fraud=df[df['is_fraud']==1]"
   ]
  },
  {
   "cell_type": "code",
   "execution_count": 63,
   "id": "ae60f30c",
   "metadata": {},
   "outputs": [
    {
     "data": {
      "text/plain": [
       "Naples,FL           29\n",
       "Dallas,TX           27\n",
       "Detroit,MI          26\n",
       "San Antonio,TX      25\n",
       "Albuquerque,NM      24\n",
       "Aurora,CO           23\n",
       "New York City,NY    23\n",
       "Warren,MI           23\n",
       "Houston,TX          22\n",
       "Lakeland,FL         21\n",
       "Name: location, dtype: int64"
      ]
     },
     "execution_count": 63,
     "metadata": {},
     "output_type": "execute_result"
    }
   ],
   "source": [
    "# Top 10 cities in fraudulent transactions\n",
    "#num_cities=df_fraud['location'].nunique()\n",
    "df_fraud['location'].value_counts().nlargest(n=10)"
   ]
  },
  {
   "cell_type": "code",
   "execution_count": 64,
   "id": "9e03a32b",
   "metadata": {},
   "outputs": [
    {
     "data": {
      "text/plain": [
       "Materials engineer                       50\n",
       "Surveyor, land/geomatics                 50\n",
       "Exhibition designer                      44\n",
       "Financial trader                         43\n",
       "Mechanical engineer                      41\n",
       "Private music teacher                    41\n",
       "Naval architect                          38\n",
       "Senior tax professional/tax inspector    37\n",
       "Television/film/video producer           37\n",
       "Trading standards officer                37\n",
       "Name: job, dtype: int64"
      ]
     },
     "execution_count": 64,
     "metadata": {},
     "output_type": "execute_result"
    }
   ],
   "source": [
    "# Top 10 Occupations in fraudulent transactions\n",
    "#num_jobs=df_fraud['job'].nunique()\n",
    "df_fraud['job'].value_counts().nlargest(n=10)"
   ]
  },
  {
   "cell_type": "code",
   "execution_count": 65,
   "id": "7817f0aa",
   "metadata": {},
   "outputs": [
    {
     "name": "stdout",
     "output_type": "stream",
     "text": [
      "count    6006.000000\n",
      "mean       53.050242\n",
      "std        19.431455\n",
      "min         0.460533\n",
      "25%        39.293388\n",
      "50%        55.187630\n",
      "75%        67.447413\n",
      "max        95.810320\n",
      "Name: distance, dtype: float64\n"
     ]
    },
    {
     "data": {
      "text/plain": [
       "Text(0.5, 1.0, 'Distribution of Fraudulent Transaction Distance from Registration Location')"
      ]
     },
     "execution_count": 65,
     "metadata": {},
     "output_type": "execute_result"
    },
    {
     "data": {
      "image/png": "[encoded data removed]",
      "text/plain": [
       "<Figure size 576x360 with 1 Axes>"
      ]
     },
     "metadata": {},
     "output_type": "display_data"
    }
   ],
   "source": [
    "#Fraulent Transactin Distance from Registration Location\n",
    "\n",
    "print(df_fraud['distance'].describe());\n",
    "\n",
    "fig=plt.figure(figsize=(8,5))\n",
    "ax=sns.histplot(data=df_fraud, x='distance', bins=16, stat='percent', color='green')\n",
    "ax.set_ylabel('Percentage in Each Distance Bin')\n",
    "ax.set_xlabel('Fraud Distance from Registration Location')\n",
    "plt.title('Distribution of Fraudulent Transaction Distance from Registration Location')"
   ]
  },
  {
   "cell_type": "markdown",
   "id": "3cd812d7",
   "metadata": {},
   "source": [
    "Most fraudulent transactions occured around 50 - 70 miles in terms of fraulent transaction distance from registration location"
   ]
  },
  {
   "cell_type": "code",
   "execution_count": 66,
   "id": "0cb77c5b",
   "metadata": {},
   "outputs": [
    {
     "data": {
      "text/plain": [
       "Text(0.5, 1.0, 'Distribution of Age on Fraudulent Transactions')"
      ]
     },
     "execution_count": 66,
     "metadata": {},
     "output_type": "execute_result"
    },
    {
     "data": {
      "image/png": "[encoded data removed]",
      "text/plain": [
       "<Figure size 576x360 with 1 Axes>"
      ]
     },
     "metadata": {},
     "output_type": "display_data"
    }
   ],
   "source": [
    "plt.figure(figsize=(8,5))\n",
    "ax=sns.histplot(data=df_fraud, x=\"age\", bins=20, stat='percent', color='red')\n",
    "ax.set_ylabel('Percentage')\n",
    "ax.set_xlabel('Age')\n",
    "plt.title('Distribution of Age on Fraudulent Transactions')"
   ]
  },
  {
   "cell_type": "markdown",
   "id": "6fe83fa0",
   "metadata": {},
   "source": [
    "Most fraudulent transactions occured 25-35 yrs old and 45-55 yrs old. "
   ]
  },
  {
   "cell_type": "code",
   "execution_count": 67,
   "id": "d738eb7b",
   "metadata": {},
   "outputs": [
    {
     "data": {
      "text/plain": [
       "Text(0.5, 1.0, 'Distribution of Fraudulent Transaction Amount')"
      ]
     },
     "execution_count": 67,
     "metadata": {},
     "output_type": "execute_result"
    },
    {
     "data": {
      "image/png": "[encoded data removed]",
      "text/plain": [
       "<Figure size 576x360 with 1 Axes>"
      ]
     },
     "metadata": {},
     "output_type": "display_data"
    }
   ],
   "source": [
    "plt.figure(figsize=(8,5))\n",
    "ax=sns.histplot(data=df_fraud, x=\"amt\", bins=20, stat='percent', color='blue')\n",
    "ax.set_ylabel('Percentage')\n",
    "ax.set_xlabel('Amount')\n",
    "plt.title('Distribution of Fraudulent Transaction Amount')"
   ]
  },
  {
   "cell_type": "code",
   "execution_count": 68,
   "id": "1298328e",
   "metadata": {},
   "outputs": [
    {
     "data": {
      "text/plain": [
       "0.20945720945720947"
      ]
     },
     "execution_count": 68,
     "metadata": {},
     "output_type": "execute_result"
    }
   ],
   "source": [
    "df_fraud[df_fraud['amt']<40]['amt'].count()/len(df_fraud)"
   ]
  },
  {
   "cell_type": "markdown",
   "id": "5eae0493",
   "metadata": {},
   "source": [
    "The highest percentage of fraudulent transaction amount is in low dollar range(e.g., $1 - $40). The second higest perentage of fraudulent transaction amount is around $300. "
   ]
  }
 ],
 "metadata": {
  "kernelspec": {
   "display_name": "Python 3 (ipykernel)",
   "language": "python",
   "name": "python3"
  },
  "language_info": {
   "codemirror_mode": {
    "name": "ipython",
    "version": 3
   },
   "file_extension": ".py",
   "mimetype": "text/x-python",
   "name": "python",
   "nbconvert_exporter": "python",
   "pygments_lexer": "ipython3",
   "version": "3.9.12"
  }
 },
 "nbformat": 4,
 "nbformat_minor": 5
}
